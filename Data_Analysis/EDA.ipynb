{
 "cells": [
  {
   "cell_type": "code",
   "execution_count": 134,
   "metadata": {},
   "outputs": [],
   "source": [
    "import re\n",
    "import pandas as pd\n",
    "import warnings\n",
    "warnings.filterwarnings('ignore')\n",
    "\n",
    "DataPath         =   './DataSet/dsp.stackexchange.com/CSV/'\n",
    "PostsData        =   pd.read_csv(DataPath+'Posts.csv')"
   ]
  },
  {
   "cell_type": "code",
   "execution_count": 135,
   "metadata": {},
   "outputs": [
    {
     "data": {
      "text/html": [
       "<div>\n",
       "<style scoped>\n",
       "    .dataframe tbody tr th:only-of-type {\n",
       "        vertical-align: middle;\n",
       "    }\n",
       "\n",
       "    .dataframe tbody tr th {\n",
       "        vertical-align: top;\n",
       "    }\n",
       "\n",
       "    .dataframe thead th {\n",
       "        text-align: right;\n",
       "    }\n",
       "</style>\n",
       "<table border=\"1\" class=\"dataframe\">\n",
       "  <thead>\n",
       "    <tr style=\"text-align: right;\">\n",
       "      <th></th>\n",
       "      <th>Id</th>\n",
       "      <th>PostTypeId</th>\n",
       "      <th>AcceptedAnswerId</th>\n",
       "      <th>CreationDate</th>\n",
       "      <th>Score</th>\n",
       "      <th>ViewCount</th>\n",
       "      <th>Body</th>\n",
       "      <th>OwnerUserId</th>\n",
       "      <th>LastEditorUserId</th>\n",
       "      <th>LastEditDate</th>\n",
       "      <th>LastActivityDate</th>\n",
       "      <th>Title</th>\n",
       "      <th>Tags</th>\n",
       "      <th>AnswerCount</th>\n",
       "      <th>CommentCount</th>\n",
       "      <th>FavoriteCount</th>\n",
       "    </tr>\n",
       "  </thead>\n",
       "  <tbody>\n",
       "    <tr>\n",
       "      <th>0</th>\n",
       "      <td>1</td>\n",
       "      <td>1</td>\n",
       "      <td>20.0</td>\n",
       "      <td>2011-08-16T19:13:36.950</td>\n",
       "      <td>14</td>\n",
       "      <td>690.0</td>\n",
       "      <td>&lt;p&gt;Are there ways to increase computational pe...</td>\n",
       "      <td>6.0</td>\n",
       "      <td>1473.0</td>\n",
       "      <td>2012-06-06T13:43:10.863</td>\n",
       "      <td>2013-01-27T16:11:56.467</td>\n",
       "      <td>How do I improve LMS / NLMS filter performance?</td>\n",
       "      <td>&lt;adaptive-filters&gt;&lt;performance&gt;&lt;least-squares&gt;</td>\n",
       "      <td>1.0</td>\n",
       "      <td>0</td>\n",
       "      <td>1.0</td>\n",
       "    </tr>\n",
       "    <tr>\n",
       "      <th>1</th>\n",
       "      <td>5</td>\n",
       "      <td>1</td>\n",
       "      <td>27.0</td>\n",
       "      <td>2011-08-16T20:01:31.747</td>\n",
       "      <td>13</td>\n",
       "      <td>1951.0</td>\n",
       "      <td>&lt;p&gt;When developing products I do all of my alg...</td>\n",
       "      <td>17.0</td>\n",
       "      <td>17.0</td>\n",
       "      <td>2011-08-16T20:40:38.407</td>\n",
       "      <td>2011-09-07T14:32:39.710</td>\n",
       "      <td>How to decide what platform is best to impleme...</td>\n",
       "      <td>&lt;arm&gt;&lt;dsp-core&gt;&lt;hardware&gt;</td>\n",
       "      <td>3.0</td>\n",
       "      <td>8</td>\n",
       "      <td>7.0</td>\n",
       "    </tr>\n",
       "  </tbody>\n",
       "</table>\n",
       "</div>"
      ],
      "text/plain": [
       "   Id  PostTypeId  AcceptedAnswerId             CreationDate  Score  \\\n",
       "0   1           1              20.0  2011-08-16T19:13:36.950     14   \n",
       "1   5           1              27.0  2011-08-16T20:01:31.747     13   \n",
       "\n",
       "   ViewCount                                               Body  OwnerUserId  \\\n",
       "0      690.0  <p>Are there ways to increase computational pe...          6.0   \n",
       "1     1951.0  <p>When developing products I do all of my alg...         17.0   \n",
       "\n",
       "   LastEditorUserId             LastEditDate         LastActivityDate  \\\n",
       "0            1473.0  2012-06-06T13:43:10.863  2013-01-27T16:11:56.467   \n",
       "1              17.0  2011-08-16T20:40:38.407  2011-09-07T14:32:39.710   \n",
       "\n",
       "                                               Title  \\\n",
       "0    How do I improve LMS / NLMS filter performance?   \n",
       "1  How to decide what platform is best to impleme...   \n",
       "\n",
       "                                             Tags  AnswerCount  CommentCount  \\\n",
       "0  <adaptive-filters><performance><least-squares>          1.0             0   \n",
       "1                       <arm><dsp-core><hardware>          3.0             8   \n",
       "\n",
       "   FavoriteCount  \n",
       "0            1.0  \n",
       "1            7.0  "
      ]
     },
     "execution_count": 135,
     "metadata": {},
     "output_type": "execute_result"
    }
   ],
   "source": [
    "PostsData.head(2)"
   ]
  },
  {
   "cell_type": "code",
   "execution_count": 136,
   "metadata": {},
   "outputs": [],
   "source": [
    "Questions = PostsData[PostsData['PostTypeId']==1]\n",
    "Answers   = PostsData[PostsData['PostTypeId']==2]"
   ]
  },
  {
   "cell_type": "code",
   "execution_count": 137,
   "metadata": {},
   "outputs": [],
   "source": [
    "TargetQs =  Questions.dropna(subset = ['AcceptedAnswerId'])"
   ]
  },
  {
   "cell_type": "code",
   "execution_count": 138,
   "metadata": {},
   "outputs": [],
   "source": [
    "TargetQs = TargetQs[['Id','AcceptedAnswerId','CreationDate', 'Title','Tags','Body']]"
   ]
  },
  {
   "cell_type": "code",
   "execution_count": 139,
   "metadata": {},
   "outputs": [],
   "source": [
    "TargetQs['BLen']=TargetQs['Body'].apply(len)"
   ]
  },
  {
   "cell_type": "code",
   "execution_count": 140,
   "metadata": {},
   "outputs": [],
   "source": [
    "def TagCounter(row):\n",
    "    Tags = re.split('<|>',row)\n",
    "    Tags = [Tag for Tag in Tags if len(Tag)>1]\n",
    "    return len(Tags)"
   ]
  },
  {
   "cell_type": "code",
   "execution_count": 141,
   "metadata": {},
   "outputs": [],
   "source": [
    "TargetQs['NTags']=TargetQs['Tags'].apply(TagCounter)"
   ]
  },
  {
   "cell_type": "code",
   "execution_count": 142,
   "metadata": {},
   "outputs": [],
   "source": [
    "TargetQs['TLen']=TargetQs['Title'].apply(len)"
   ]
  },
  {
   "cell_type": "code",
   "execution_count": 143,
   "metadata": {},
   "outputs": [],
   "source": [
    "TargetQs.rename(columns={'CreationDate':'QCreationDate'}, inplace=True)"
   ]
  },
  {
   "cell_type": "code",
   "execution_count": 144,
   "metadata": {},
   "outputs": [],
   "source": [
    "TargetQs.AcceptedAnswerId = TargetQs.AcceptedAnswerId.astype(int)"
   ]
  },
  {
   "cell_type": "code",
   "execution_count": 145,
   "metadata": {},
   "outputs": [
    {
     "data": {
      "text/html": [
       "<div>\n",
       "<style scoped>\n",
       "    .dataframe tbody tr th:only-of-type {\n",
       "        vertical-align: middle;\n",
       "    }\n",
       "\n",
       "    .dataframe tbody tr th {\n",
       "        vertical-align: top;\n",
       "    }\n",
       "\n",
       "    .dataframe thead th {\n",
       "        text-align: right;\n",
       "    }\n",
       "</style>\n",
       "<table border=\"1\" class=\"dataframe\">\n",
       "  <thead>\n",
       "    <tr style=\"text-align: right;\">\n",
       "      <th></th>\n",
       "      <th>Id</th>\n",
       "      <th>AcceptedAnswerId</th>\n",
       "      <th>QCreationDate</th>\n",
       "      <th>Title</th>\n",
       "      <th>Tags</th>\n",
       "      <th>Body</th>\n",
       "      <th>BLen</th>\n",
       "      <th>NTags</th>\n",
       "      <th>TLen</th>\n",
       "    </tr>\n",
       "  </thead>\n",
       "  <tbody>\n",
       "    <tr>\n",
       "      <th>0</th>\n",
       "      <td>1</td>\n",
       "      <td>20</td>\n",
       "      <td>2011-08-16T19:13:36.950</td>\n",
       "      <td>How do I improve LMS / NLMS filter performance?</td>\n",
       "      <td>&lt;adaptive-filters&gt;&lt;performance&gt;&lt;least-squares&gt;</td>\n",
       "      <td>&lt;p&gt;Are there ways to increase computational pe...</td>\n",
       "      <td>479</td>\n",
       "      <td>3</td>\n",
       "      <td>47</td>\n",
       "    </tr>\n",
       "    <tr>\n",
       "      <th>1</th>\n",
       "      <td>5</td>\n",
       "      <td>27</td>\n",
       "      <td>2011-08-16T20:01:31.747</td>\n",
       "      <td>How to decide what platform is best to impleme...</td>\n",
       "      <td>&lt;arm&gt;&lt;dsp-core&gt;&lt;hardware&gt;</td>\n",
       "      <td>&lt;p&gt;When developing products I do all of my alg...</td>\n",
       "      <td>475</td>\n",
       "      <td>3</td>\n",
       "      <td>79</td>\n",
       "    </tr>\n",
       "  </tbody>\n",
       "</table>\n",
       "</div>"
      ],
      "text/plain": [
       "   Id  AcceptedAnswerId            QCreationDate  \\\n",
       "0   1                20  2011-08-16T19:13:36.950   \n",
       "1   5                27  2011-08-16T20:01:31.747   \n",
       "\n",
       "                                               Title  \\\n",
       "0    How do I improve LMS / NLMS filter performance?   \n",
       "1  How to decide what platform is best to impleme...   \n",
       "\n",
       "                                             Tags  \\\n",
       "0  <adaptive-filters><performance><least-squares>   \n",
       "1                       <arm><dsp-core><hardware>   \n",
       "\n",
       "                                                Body  BLen  NTags  TLen  \n",
       "0  <p>Are there ways to increase computational pe...   479      3    47  \n",
       "1  <p>When developing products I do all of my alg...   475      3    79  "
      ]
     },
     "execution_count": 145,
     "metadata": {},
     "output_type": "execute_result"
    }
   ],
   "source": [
    "TargetQs.head(2)"
   ]
  },
  {
   "cell_type": "code",
   "execution_count": 146,
   "metadata": {},
   "outputs": [],
   "source": [
    "AnswersT = Answers[['Id','CreationDate']]"
   ]
  },
  {
   "cell_type": "code",
   "execution_count": 147,
   "metadata": {},
   "outputs": [],
   "source": [
    "AnswersT.rename(columns={'Id':'AcceptedAnswerId'}, inplace=True)\n",
    "AnswersT.rename(columns={'CreationDate':'ACreationDate'}, inplace=True)"
   ]
  },
  {
   "cell_type": "code",
   "execution_count": 148,
   "metadata": {},
   "outputs": [
    {
     "data": {
      "text/html": [
       "<div>\n",
       "<style scoped>\n",
       "    .dataframe tbody tr th:only-of-type {\n",
       "        vertical-align: middle;\n",
       "    }\n",
       "\n",
       "    .dataframe tbody tr th {\n",
       "        vertical-align: top;\n",
       "    }\n",
       "\n",
       "    .dataframe thead th {\n",
       "        text-align: right;\n",
       "    }\n",
       "</style>\n",
       "<table border=\"1\" class=\"dataframe\">\n",
       "  <thead>\n",
       "    <tr style=\"text-align: right;\">\n",
       "      <th></th>\n",
       "      <th>AcceptedAnswerId</th>\n",
       "      <th>ACreationDate</th>\n",
       "    </tr>\n",
       "  </thead>\n",
       "  <tbody>\n",
       "    <tr>\n",
       "      <th>5</th>\n",
       "      <td>9</td>\n",
       "      <td>2011-08-16T20:45:01.113</td>\n",
       "    </tr>\n",
       "    <tr>\n",
       "      <th>6</th>\n",
       "      <td>10</td>\n",
       "      <td>2011-08-16T21:07:30.923</td>\n",
       "    </tr>\n",
       "    <tr>\n",
       "      <th>7</th>\n",
       "      <td>11</td>\n",
       "      <td>2011-08-16T21:10:57.830</td>\n",
       "    </tr>\n",
       "    <tr>\n",
       "      <th>8</th>\n",
       "      <td>12</td>\n",
       "      <td>2011-08-16T21:20:29.243</td>\n",
       "    </tr>\n",
       "    <tr>\n",
       "      <th>10</th>\n",
       "      <td>14</td>\n",
       "      <td>2011-08-16T22:18:06.980</td>\n",
       "    </tr>\n",
       "  </tbody>\n",
       "</table>\n",
       "</div>"
      ],
      "text/plain": [
       "    AcceptedAnswerId            ACreationDate\n",
       "5                  9  2011-08-16T20:45:01.113\n",
       "6                 10  2011-08-16T21:07:30.923\n",
       "7                 11  2011-08-16T21:10:57.830\n",
       "8                 12  2011-08-16T21:20:29.243\n",
       "10                14  2011-08-16T22:18:06.980"
      ]
     },
     "execution_count": 148,
     "metadata": {},
     "output_type": "execute_result"
    }
   ],
   "source": [
    "AnswersT.head()"
   ]
  },
  {
   "cell_type": "code",
   "execution_count": 149,
   "metadata": {},
   "outputs": [],
   "source": [
    "resultT = pd.merge(TargetQs, AnswersT, on='AcceptedAnswerId')"
   ]
  },
  {
   "cell_type": "code",
   "execution_count": 150,
   "metadata": {},
   "outputs": [],
   "source": [
    "resultT['QCreationDate'] = pd.to_datetime(resultT.QCreationDate)\n",
    "resultT['ACreationDate'] = pd.to_datetime(resultT.ACreationDate)\n",
    "resultT['Tdelta']        = resultT['ACreationDate']-resultT['QCreationDate']"
   ]
  },
  {
   "cell_type": "code",
   "execution_count": 151,
   "metadata": {},
   "outputs": [],
   "source": [
    "def delta2Minutes(row):\n",
    "   return row.total_seconds()/3600"
   ]
  },
  {
   "cell_type": "code",
   "execution_count": 152,
   "metadata": {},
   "outputs": [],
   "source": [
    "resultT['ATime']=resultT['Tdelta'].apply(delta2Minutes)"
   ]
  },
  {
   "cell_type": "code",
   "execution_count": 153,
   "metadata": {},
   "outputs": [],
   "source": [
    "resultT = resultT[resultT['ATime']<=96]"
   ]
  },
  {
   "cell_type": "code",
   "execution_count": 154,
   "metadata": {},
   "outputs": [],
   "source": [
    "resultT.to_csv('./ProcessedDataSet/resutT.csv', index=False)"
   ]
  },
  {
   "cell_type": "code",
   "execution_count": 155,
   "metadata": {},
   "outputs": [],
   "source": [
    "# import matplotlib.pyplot as plt\n",
    "# %matplotlib inline  \n",
    "# fig, ax = plt.subplots()\n",
    "\n",
    "# im = ax.scatter(resultT.BLen, resultT.ATime,s=5)\n",
    "# plt.xlabel('Length of question Body')\n",
    "# plt.ylabel('Hours taken to get an accepted answer')\n",
    "# fig.savefig('EDA/Question_Body_Length_Vs_Hours.png', dpi = 600)\n",
    "\n",
    "# im = ax.scatter(resultT.TLen, resultT.ATime,s=5)\n",
    "# plt.xlabel('Length of question Title')\n",
    "# plt.ylabel('Hours taken to get an accepted answer')\n",
    "# fig.savefig('EDA/Question_Title_Length_Vs_Hours.png', dpi = 600)\n",
    " \n",
    "# im = ax.scatter(resultT.TLen, resultT.BLen,c = resultT.ATime, s=5)\n",
    "# fig.colorbar(im, ax=ax)\n",
    "# plt.xlabel('Length of question Title')\n",
    "# plt.ylabel('Length of question Body')\n",
    "# fig.savefig('EDA/Question_Length_Vs_Hours.png', dpi = 600)\n",
    "\n",
    "# im = ax.hist(resultT.TLen)\n",
    "# plt.xlabel('Length of question Title')\n",
    "# plt.ylabel('Count')\n",
    "# fig.savefig('EDA/Question_Title_Histogram.png', dpi = 600)\n",
    "\n",
    "# im = ax.hist(resultT.BLen)\n",
    "# plt.xlabel('Length of question Body')\n",
    "# plt.ylabel('Count')\n",
    "# fig.savefig('EDA/Question_Body_Histogram.png', dpi = 600)"
   ]
  },
  {
   "cell_type": "code",
   "execution_count": null,
   "metadata": {},
   "outputs": [],
   "source": []
  },
  {
   "cell_type": "code",
   "execution_count": null,
   "metadata": {},
   "outputs": [],
   "source": []
  }
 ],
 "metadata": {
  "kernelspec": {
   "display_name": "Python 3",
   "language": "python",
   "name": "python3"
  },
  "language_info": {
   "codemirror_mode": {
    "name": "ipython",
    "version": 3
   },
   "file_extension": ".py",
   "mimetype": "text/x-python",
   "name": "python",
   "nbconvert_exporter": "python",
   "pygments_lexer": "ipython3",
   "version": "3.7.3"
  }
 },
 "nbformat": 4,
 "nbformat_minor": 2
}
