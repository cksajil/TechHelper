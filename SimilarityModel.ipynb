{
 "cells": [
  {
   "cell_type": "code",
   "execution_count": 7,
   "metadata": {},
   "outputs": [],
   "source": [
    "from sklearn.feature_extraction.text import TfidfVectorizer\n",
    "from sklearn.cluster import KMeans\n",
    "from sklearn.metrics import silhouette_score\n",
    "import numpy as np\n",
    "import pandas as pd"
   ]
  },
  {
   "cell_type": "code",
   "execution_count": 8,
   "metadata": {},
   "outputs": [],
   "source": [
    "data                    =   pd.read_csv('./ProcessedDataSet/resutT.csv')\n",
    "questions               =   data['Title'].values"
   ]
  },
  {
   "cell_type": "code",
   "execution_count": 9,
   "metadata": {},
   "outputs": [
    {
     "data": {
      "text/plain": [
       "array(['How do I improve LMS / NLMS filter performance?',\n",
       "       'How to decide what platform is best to implement real-time audio processing on?',\n",
       "       'What does a \"vector\" in a hidden Markov model mean?', ...,\n",
       "       'FFT: do I need to include gaps in data in my FFT domain?',\n",
       "       'Protect an IIR filter from being reverse-engineered',\n",
       "       'Using Spreading spectral with Maximal likelihood'], dtype=object)"
      ]
     },
     "execution_count": 9,
     "metadata": {},
     "output_type": "execute_result"
    }
   ],
   "source": [
    "questions"
   ]
  },
  {
   "cell_type": "code",
   "execution_count": 10,
   "metadata": {},
   "outputs": [],
   "source": [
    "vectorizer              =  TfidfVectorizer(stop_words=\"english\")\n",
    "X                       =  vectorizer.fit_transform(questions)\n",
    "words                   =  vectorizer.get_feature_names()"
   ]
  },
  {
   "cell_type": "code",
   "execution_count": 27,
   "metadata": {},
   "outputs": [],
   "source": [
    "n_clusters              =  1250\n",
    "number_of_seeds_to_try  =  10\n",
    "max_iter                =  300\n",
    "number_of_process       =  2 \n",
    "model                   =  KMeans(n_clusters=n_clusters, max_iter=max_iter, n_init=number_of_seeds_to_try, n_jobs=number_of_process).fit(X)"
   ]
  },
  {
   "cell_type": "code",
   "execution_count": 28,
   "metadata": {},
   "outputs": [
    {
     "data": {
      "text/plain": [
       "['./TrainedModels/ClusterModel.pkl']"
      ]
     },
     "execution_count": 28,
     "metadata": {},
     "output_type": "execute_result"
    }
   ],
   "source": [
    "from sklearn.externals import joblib\n",
    "joblib.dump(model, './TrainedModels/ClusterModel.pkl', protocol=2) "
   ]
  },
  {
   "cell_type": "code",
   "execution_count": 13,
   "metadata": {},
   "outputs": [],
   "source": [
    "ClusterDF = pd.DataFrame(columns=['Id', 'Cluster'])\n",
    "\n",
    "for index, row in data.iterrows():\n",
    "    question  = row.Title\n",
    "    Y         =  vectorizer.transform([question])\n",
    "    Pcluster  =  model.predict(Y)[0]\n",
    "    ClusterDF = ClusterDF.append({'Id':row['Id'], 'Cluster':Pcluster}, ignore_index=True)"
   ]
  },
  {
   "cell_type": "code",
   "execution_count": 29,
   "metadata": {},
   "outputs": [
    {
     "data": {
      "text/plain": [
       "0.04065099969858449"
      ]
     },
     "execution_count": 29,
     "metadata": {},
     "output_type": "execute_result"
    }
   ],
   "source": [
    "WordVec  =  X.toarray()\n",
    "Preds    =  ClusterDF['Cluster']\n",
    "silhouette_score (WordVec, Preds, metric='euclidean')"
   ]
  },
  {
   "cell_type": "code",
   "execution_count": 15,
   "metadata": {},
   "outputs": [],
   "source": [
    "result = pd.merge(data, ClusterDF, on='Id')"
   ]
  },
  {
   "cell_type": "code",
   "execution_count": 16,
   "metadata": {},
   "outputs": [],
   "source": [
    "result.to_csv('./ProcessedDataSet/ClusterdResult.csv', index=False)"
   ]
  },
  {
   "cell_type": "code",
   "execution_count": 17,
   "metadata": {},
   "outputs": [],
   "source": [
    "LiveQuestion = 'What is Laplace Transform?'\n",
    "Y            =  vectorizer.transform([LiveQuestion])\n",
    "Pcluster     =  model.predict(Y)[0]"
   ]
  },
  {
   "cell_type": "code",
   "execution_count": 18,
   "metadata": {},
   "outputs": [],
   "source": [
    "QAtimes      =  result[result['Cluster']==Pcluster].ATime.values\n",
    "SimilarQs    =  result[result['Cluster']==Pcluster].Title.values"
   ]
  },
  {
   "cell_type": "code",
   "execution_count": 19,
   "metadata": {},
   "outputs": [
    {
     "data": {
      "text/plain": [
       "Text(0, 0.5, 'Count')"
      ]
     },
     "execution_count": 19,
     "metadata": {},
     "output_type": "execute_result"
    },
    {
     "data": {
      "image/png": "[encoded data removed]",
      "text/plain": [
       "<Figure size 432x288 with 1 Axes>"
      ]
     },
     "metadata": {
      "needs_background": "light"
     },
     "output_type": "display_data"
    }
   ],
   "source": [
    "import matplotlib.pyplot as plt\n",
    "%matplotlib inline  \n",
    "fig, ax = plt.subplots()\n",
    "im = ax.hist(QAtimes)\n",
    "plt.xlabel('Answering Time')\n",
    "plt.ylabel('Count')"
   ]
  },
  {
   "cell_type": "code",
   "execution_count": 20,
   "metadata": {},
   "outputs": [
    {
     "name": "stdout",
     "output_type": "stream",
     "text": [
      "Estimated Answering Time : 3.0 Minutes\n"
     ]
    }
   ],
   "source": [
    "print ('Estimated Answering Time :', np.around(np.median(QAtimes), decimals=1), 'Minutes')"
   ]
  },
  {
   "cell_type": "code",
   "execution_count": null,
   "metadata": {},
   "outputs": [],
   "source": []
  }
 ],
 "metadata": {
  "kernelspec": {
   "display_name": "Python 3",
   "language": "python",
   "name": "python3"
  },
  "language_info": {
   "codemirror_mode": {
    "name": "ipython",
    "version": 3
   },
   "file_extension": ".py",
   "mimetype": "text/x-python",
   "name": "python",
   "nbconvert_exporter": "python",
   "pygments_lexer": "ipython3",
   "version": "3.7.3"
  }
 },
 "nbformat": 4,
 "nbformat_minor": 2
}
