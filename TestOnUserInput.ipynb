{
 "cells": [
  {
   "cell_type": "code",
   "execution_count": 1,
   "metadata": {},
   "outputs": [],
   "source": [
    "from sklearn.feature_extraction.text import TfidfVectorizer\n",
    "from sklearn.externals import joblib\n",
    "import matplotlib.pyplot as plt\n",
    "%matplotlib inline\n",
    "import pandas as pd\n",
    "import numpy as np"
   ]
  },
  {
   "cell_type": "code",
   "execution_count": 2,
   "metadata": {},
   "outputs": [],
   "source": [
    "data                    =   pd.read_csv('./ProcessedDataSet/resutT.csv')\n",
    "questions               =   data['Title'].values\n",
    "cmodel                  =   joblib.load('./TrainedModels/ClusterModel.pkl') "
   ]
  },
  {
   "cell_type": "code",
   "execution_count": 3,
   "metadata": {},
   "outputs": [
    {
     "data": {
      "text/html": [
       "<div>\n",
       "<style scoped>\n",
       "    .dataframe tbody tr th:only-of-type {\n",
       "        vertical-align: middle;\n",
       "    }\n",
       "\n",
       "    .dataframe tbody tr th {\n",
       "        vertical-align: top;\n",
       "    }\n",
       "\n",
       "    .dataframe thead th {\n",
       "        text-align: right;\n",
       "    }\n",
       "</style>\n",
       "<table border=\"1\" class=\"dataframe\">\n",
       "  <thead>\n",
       "    <tr style=\"text-align: right;\">\n",
       "      <th></th>\n",
       "      <th>Id</th>\n",
       "      <th>AcceptedAnswerId</th>\n",
       "      <th>QCreationDate</th>\n",
       "      <th>Title</th>\n",
       "      <th>Tags</th>\n",
       "      <th>Body</th>\n",
       "      <th>BLen</th>\n",
       "      <th>NTags</th>\n",
       "      <th>TLen</th>\n",
       "      <th>ACreationDate</th>\n",
       "      <th>Tdelta</th>\n",
       "      <th>ATime</th>\n",
       "    </tr>\n",
       "  </thead>\n",
       "  <tbody>\n",
       "    <tr>\n",
       "      <th>0</th>\n",
       "      <td>1</td>\n",
       "      <td>20</td>\n",
       "      <td>2011-08-16 19:13:36.950</td>\n",
       "      <td>How do I improve LMS / NLMS filter performance?</td>\n",
       "      <td>&lt;adaptive-filters&gt;&lt;performance&gt;&lt;least-squares&gt;</td>\n",
       "      <td>&lt;p&gt;Are there ways to increase computational pe...</td>\n",
       "      <td>479</td>\n",
       "      <td>3</td>\n",
       "      <td>47</td>\n",
       "      <td>2011-08-17 04:22:53.650</td>\n",
       "      <td>0 days 09:09:16.700000000</td>\n",
       "      <td>9.154639</td>\n",
       "    </tr>\n",
       "    <tr>\n",
       "      <th>1</th>\n",
       "      <td>5</td>\n",
       "      <td>27</td>\n",
       "      <td>2011-08-16 20:01:31.747</td>\n",
       "      <td>How to decide what platform is best to impleme...</td>\n",
       "      <td>&lt;arm&gt;&lt;dsp-core&gt;&lt;hardware&gt;</td>\n",
       "      <td>&lt;p&gt;When developing products I do all of my alg...</td>\n",
       "      <td>475</td>\n",
       "      <td>3</td>\n",
       "      <td>79</td>\n",
       "      <td>2011-08-17 10:27:25.940</td>\n",
       "      <td>0 days 14:25:54.193000000</td>\n",
       "      <td>14.431720</td>\n",
       "    </tr>\n",
       "    <tr>\n",
       "      <th>2</th>\n",
       "      <td>8</td>\n",
       "      <td>24</td>\n",
       "      <td>2011-08-16 20:35:14.063</td>\n",
       "      <td>What does a \"vector\" in a hidden Markov model ...</td>\n",
       "      <td>&lt;speech-recognition&gt;</td>\n",
       "      <td>&lt;p&gt;I know that a Hidden Markov Model (HMM) is ...</td>\n",
       "      <td>306</td>\n",
       "      <td>1</td>\n",
       "      <td>51</td>\n",
       "      <td>2011-08-17 06:41:42.450</td>\n",
       "      <td>0 days 10:06:28.387000000</td>\n",
       "      <td>10.107885</td>\n",
       "    </tr>\n",
       "    <tr>\n",
       "      <th>3</th>\n",
       "      <td>26</td>\n",
       "      <td>32</td>\n",
       "      <td>2011-08-17 09:57:31.830</td>\n",
       "      <td>How should I pre-process a real valued signal ...</td>\n",
       "      <td>&lt;analytic-signal&gt;&lt;preprocessing&gt;&lt;estimators&gt;</td>\n",
       "      <td>&lt;p&gt;I have 100,000 samples of a signal $x[n]$ t...</td>\n",
       "      <td>1064</td>\n",
       "      <td>3</td>\n",
       "      <td>78</td>\n",
       "      <td>2011-08-17 13:51:01.600</td>\n",
       "      <td>0 days 03:53:29.770000000</td>\n",
       "      <td>3.891603</td>\n",
       "    </tr>\n",
       "    <tr>\n",
       "      <th>4</th>\n",
       "      <td>39</td>\n",
       "      <td>55</td>\n",
       "      <td>2011-08-17 20:07:57.850</td>\n",
       "      <td>Are there preferred patterns for creating text...</td>\n",
       "      <td>&lt;computer-vision&gt;</td>\n",
       "      <td>&lt;p&gt;In &lt;a href=\"https://dsp.stackexchange.com/q...</td>\n",
       "      <td>966</td>\n",
       "      <td>1</td>\n",
       "      <td>84</td>\n",
       "      <td>2011-08-18 04:42:09.737</td>\n",
       "      <td>0 days 08:34:11.887000000</td>\n",
       "      <td>8.569969</td>\n",
       "    </tr>\n",
       "  </tbody>\n",
       "</table>\n",
       "</div>"
      ],
      "text/plain": [
       "   Id  AcceptedAnswerId            QCreationDate  \\\n",
       "0   1                20  2011-08-16 19:13:36.950   \n",
       "1   5                27  2011-08-16 20:01:31.747   \n",
       "2   8                24  2011-08-16 20:35:14.063   \n",
       "3  26                32  2011-08-17 09:57:31.830   \n",
       "4  39                55  2011-08-17 20:07:57.850   \n",
       "\n",
       "                                               Title  \\\n",
       "0    How do I improve LMS / NLMS filter performance?   \n",
       "1  How to decide what platform is best to impleme...   \n",
       "2  What does a \"vector\" in a hidden Markov model ...   \n",
       "3  How should I pre-process a real valued signal ...   \n",
       "4  Are there preferred patterns for creating text...   \n",
       "\n",
       "                                             Tags  \\\n",
       "0  <adaptive-filters><performance><least-squares>   \n",
       "1                       <arm><dsp-core><hardware>   \n",
       "2                            <speech-recognition>   \n",
       "3    <analytic-signal><preprocessing><estimators>   \n",
       "4                               <computer-vision>   \n",
       "\n",
       "                                                Body  BLen  NTags  TLen  \\\n",
       "0  <p>Are there ways to increase computational pe...   479      3    47   \n",
       "1  <p>When developing products I do all of my alg...   475      3    79   \n",
       "2  <p>I know that a Hidden Markov Model (HMM) is ...   306      1    51   \n",
       "3  <p>I have 100,000 samples of a signal $x[n]$ t...  1064      3    78   \n",
       "4  <p>In <a href=\"https://dsp.stackexchange.com/q...   966      1    84   \n",
       "\n",
       "             ACreationDate                     Tdelta      ATime  \n",
       "0  2011-08-17 04:22:53.650  0 days 09:09:16.700000000   9.154639  \n",
       "1  2011-08-17 10:27:25.940  0 days 14:25:54.193000000  14.431720  \n",
       "2  2011-08-17 06:41:42.450  0 days 10:06:28.387000000  10.107885  \n",
       "3  2011-08-17 13:51:01.600  0 days 03:53:29.770000000   3.891603  \n",
       "4  2011-08-18 04:42:09.737  0 days 08:34:11.887000000   8.569969  "
      ]
     },
     "execution_count": 3,
     "metadata": {},
     "output_type": "execute_result"
    }
   ],
   "source": [
    "data.head()"
   ]
  },
  {
   "cell_type": "code",
   "execution_count": 4,
   "metadata": {},
   "outputs": [],
   "source": [
    "vectorizer              =  TfidfVectorizer(stop_words=\"english\")\n",
    "X                       =  vectorizer.fit_transform(questions)\n",
    "words                   =  vectorizer.get_feature_names()"
   ]
  },
  {
   "cell_type": "code",
   "execution_count": 5,
   "metadata": {},
   "outputs": [],
   "source": [
    "LiveQuestion = 'how to do image filtering?'\n",
    "Y            =  vectorizer.transform([LiveQuestion])\n",
    "Pcluster     =  cmodel.predict(Y)[0]"
   ]
  },
  {
   "cell_type": "code",
   "execution_count": 6,
   "metadata": {},
   "outputs": [],
   "source": [
    "result       =  pd.read_csv('./ProcessedDataSet/ClusterdResult.csv')"
   ]
  },
  {
   "cell_type": "code",
   "execution_count": 7,
   "metadata": {},
   "outputs": [],
   "source": [
    "QAtimes          =  result[result['Cluster']==Pcluster].ATime.values\n",
    "SimilarQsfast    =  result[result['Cluster']==Pcluster].sort_values(by='ATime', ascending=False)['Title'].values\n",
    "SimilarQsslow    =  result[result['Cluster']==Pcluster].sort_values(by='ATime', ascending=True)['Title'].values"
   ]
  },
  {
   "cell_type": "code",
   "execution_count": 16,
   "metadata": {},
   "outputs": [
    {
     "data": {
      "text/html": [
       "<div>\n",
       "<style scoped>\n",
       "    .dataframe tbody tr th:only-of-type {\n",
       "        vertical-align: middle;\n",
       "    }\n",
       "\n",
       "    .dataframe tbody tr th {\n",
       "        vertical-align: top;\n",
       "    }\n",
       "\n",
       "    .dataframe thead th {\n",
       "        text-align: right;\n",
       "    }\n",
       "</style>\n",
       "<table border=\"1\" class=\"dataframe\">\n",
       "  <thead>\n",
       "    <tr style=\"text-align: right;\">\n",
       "      <th></th>\n",
       "      <th>Id</th>\n",
       "      <th>AcceptedAnswerId</th>\n",
       "      <th>QCreationDate</th>\n",
       "      <th>Title</th>\n",
       "      <th>Tags</th>\n",
       "      <th>Body</th>\n",
       "      <th>BLen</th>\n",
       "      <th>NTags</th>\n",
       "      <th>TLen</th>\n",
       "      <th>ACreationDate</th>\n",
       "      <th>Tdelta</th>\n",
       "      <th>ATime</th>\n",
       "      <th>Cluster</th>\n",
       "    </tr>\n",
       "  </thead>\n",
       "  <tbody>\n",
       "    <tr>\n",
       "      <th>3332</th>\n",
       "      <td>28087</td>\n",
       "      <td>28089</td>\n",
       "      <td>2016-01-05 11:41:13.220</td>\n",
       "      <td>Pulse shaping and Baseband filtering</td>\n",
       "      <td>&lt;filtering&gt;&lt;hilbert-transform&gt;&lt;analytic-signal&gt;</td>\n",
       "      <td>&lt;p&gt;I'm slightly confused about baseband pulse ...</td>\n",
       "      <td>546</td>\n",
       "      <td>3</td>\n",
       "      <td>36</td>\n",
       "      <td>2016-01-05 11:56:59.930</td>\n",
       "      <td>0 days 00:15:46.710000000</td>\n",
       "      <td>0.262975</td>\n",
       "      <td>197</td>\n",
       "    </tr>\n",
       "    <tr>\n",
       "      <th>1394</th>\n",
       "      <td>13115</td>\n",
       "      <td>13116</td>\n",
       "      <td>2013-12-10 19:10:29.383</td>\n",
       "      <td>Filtering an image with two gabor filters</td>\n",
       "      <td>&lt;image-processing&gt;&lt;filters&gt;&lt;convolution&gt;&lt;filte...</td>\n",
       "      <td>&lt;p&gt;I have an image of size 160x160 of pixels. ...</td>\n",
       "      <td>981</td>\n",
       "      <td>4</td>\n",
       "      <td>41</td>\n",
       "      <td>2013-12-10 19:29:06.307</td>\n",
       "      <td>0 days 00:18:36.924000000</td>\n",
       "      <td>0.310257</td>\n",
       "      <td>197</td>\n",
       "    </tr>\n",
       "  </tbody>\n",
       "</table>\n",
       "</div>"
      ],
      "text/plain": [
       "         Id  AcceptedAnswerId            QCreationDate  \\\n",
       "3332  28087             28089  2016-01-05 11:41:13.220   \n",
       "1394  13115             13116  2013-12-10 19:10:29.383   \n",
       "\n",
       "                                          Title  \\\n",
       "3332       Pulse shaping and Baseband filtering   \n",
       "1394  Filtering an image with two gabor filters   \n",
       "\n",
       "                                                   Tags  \\\n",
       "3332    <filtering><hilbert-transform><analytic-signal>   \n",
       "1394  <image-processing><filters><convolution><filte...   \n",
       "\n",
       "                                                   Body  BLen  NTags  TLen  \\\n",
       "3332  <p>I'm slightly confused about baseband pulse ...   546      3    36   \n",
       "1394  <p>I have an image of size 160x160 of pixels. ...   981      4    41   \n",
       "\n",
       "                ACreationDate                     Tdelta     ATime  Cluster  \n",
       "3332  2016-01-05 11:56:59.930  0 days 00:15:46.710000000  0.262975      197  \n",
       "1394  2013-12-10 19:29:06.307  0 days 00:18:36.924000000  0.310257      197  "
      ]
     },
     "execution_count": 16,
     "metadata": {},
     "output_type": "execute_result"
    }
   ],
   "source": [
    "result[result['Cluster']==Pcluster].sort_values(by='ATime', ascending=True).head(2)\n",
    "# SimilarQsslow[:5]"
   ]
  },
  {
   "cell_type": "code",
   "execution_count": 9,
   "metadata": {},
   "outputs": [],
   "source": [
    "score = np.around(np.median(QAtimes))"
   ]
  },
  {
   "cell_type": "code",
   "execution_count": 10,
   "metadata": {},
   "outputs": [
    {
     "data": {
      "image/png": "[encoded data removed]",
      "text/plain": [
       "<Figure size 432x288 with 1 Axes>"
      ]
     },
     "metadata": {
      "needs_background": "light"
     },
     "output_type": "display_data"
    }
   ],
   "source": [
    "fig, ax = plt.subplots()\n",
    "im = ax.hist(QAtimes)\n",
    "plt.xlabel('Answering Time (Minutes)')\n",
    "plt.ylabel('Count')\n",
    "fig.savefig('./static/Hist.png', dpi = 600)"
   ]
  },
  {
   "cell_type": "code",
   "execution_count": 11,
   "metadata": {},
   "outputs": [
    {
     "data": {
      "text/plain": [
       "4.0"
      ]
     },
     "execution_count": 11,
     "metadata": {},
     "output_type": "execute_result"
    }
   ],
   "source": [
    "score"
   ]
  },
  {
   "cell_type": "code",
   "execution_count": null,
   "metadata": {},
   "outputs": [],
   "source": []
  }
 ],
 "metadata": {
  "kernelspec": {
   "display_name": "Python 3",
   "language": "python",
   "name": "python3"
  },
  "language_info": {
   "codemirror_mode": {
    "name": "ipython",
    "version": 3
   },
   "file_extension": ".py",
   "mimetype": "text/x-python",
   "name": "python",
   "nbconvert_exporter": "python",
   "pygments_lexer": "ipython3",
   "version": "3.8.5"
  }
 },
 "nbformat": 4,
 "nbformat_minor": 2
}
